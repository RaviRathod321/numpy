{
  "nbformat": 4,
  "nbformat_minor": 0,
  "metadata": {
    "colab": {
      "provenance": []
    },
    "kernelspec": {
      "name": "python3",
      "display_name": "Python 3"
    },
    "language_info": {
      "name": "python"
    }
  },
  "cells": [
    {
      "cell_type": "code",
      "execution_count": 1,
      "metadata": {
        "id": "GozG2gBloOOB"
      },
      "outputs": [],
      "source": [
        "#Import numpy as np\n",
        "import numpy as np"
      ]
    },
    {
      "cell_type": "code",
      "source": [
        "#Print the numpy version\n",
        "z = np.__version__\n",
        "print(z)"
      ],
      "metadata": {
        "colab": {
          "base_uri": "https://localhost:8080/"
        },
        "id": "N41kTytNotNc",
        "outputId": "a550be0e-9ac0-4890-d627-f3564237eade"
      },
      "execution_count": 5,
      "outputs": [
        {
          "output_type": "stream",
          "name": "stdout",
          "text": [
            "1.23.5\n"
          ]
        }
      ]
    },
    {
      "cell_type": "code",
      "source": [
        "#Create a null verctor of size 10\n",
        "z = np.zeros(10)\n",
        "print(z)"
      ],
      "metadata": {
        "colab": {
          "base_uri": "https://localhost:8080/"
        },
        "id": "Bs3nM0bNo4Z7",
        "outputId": "5c8600c5-04f7-4789-8ba9-fdad56d78ac8"
      },
      "execution_count": 6,
      "outputs": [
        {
          "output_type": "stream",
          "name": "stdout",
          "text": [
            "[0. 0. 0. 0. 0. 0. 0. 0. 0. 0.]\n"
          ]
        }
      ]
    },
    {
      "cell_type": "code",
      "source": [
        "#find the memory size of the array\n",
        "z = np.array([2,3,4,5,6])\n",
        "arr = z.nbytes\n",
        "print(arr)"
      ],
      "metadata": {
        "colab": {
          "base_uri": "https://localhost:8080/"
        },
        "id": "o_5YL4SIpQ1L",
        "outputId": "f88521a2-118a-4b90-ed3e-daad1a967a53"
      },
      "execution_count": 7,
      "outputs": [
        {
          "output_type": "stream",
          "name": "stdout",
          "text": [
            "40\n"
          ]
        }
      ]
    },
    {
      "cell_type": "code",
      "source": [
        "#Create a null vector of size 10\n",
        "null_vector = np.zeros(10)\n",
        "print(null_vector)"
      ],
      "metadata": {
        "colab": {
          "base_uri": "https://localhost:8080/"
        },
        "id": "FQrmh4Qdq-FE",
        "outputId": "685e09e8-0c4c-4799-fcac-0539af5b8aaf"
      },
      "execution_count": 9,
      "outputs": [
        {
          "output_type": "stream",
          "name": "stdout",
          "text": [
            "[0. 0. 0. 0. 0. 0. 0. 0. 0. 0.]\n"
          ]
        }
      ]
    },
    {
      "cell_type": "code",
      "source": [
        "#Crete a vector at value 5\n",
        "null_vector = np.zeros(10)\n",
        "null_vector[4] = 1\n",
        "print(null_vector)"
      ],
      "metadata": {
        "colab": {
          "base_uri": "https://localhost:8080/"
        },
        "id": "0mwzm7eXrq5P",
        "outputId": "e9475af0-4c55-447a-d358-092e647815bb"
      },
      "execution_count": 10,
      "outputs": [
        {
          "output_type": "stream",
          "name": "stdout",
          "text": [
            "[0. 0. 0. 0. 1. 0. 0. 0. 0. 0.]\n"
          ]
        }
      ]
    },
    {
      "cell_type": "code",
      "source": [
        "#create a vector with values ranging from 10 to 40.\n",
        "a = np.arange(10, 50)\n",
        "print(a)"
      ],
      "metadata": {
        "colab": {
          "base_uri": "https://localhost:8080/"
        },
        "id": "LOzFUBz4sGPQ",
        "outputId": "3bef5353-9b91-46d0-d25a-f65c97fb62f7"
      },
      "execution_count": 13,
      "outputs": [
        {
          "output_type": "stream",
          "name": "stdout",
          "text": [
            "[10 11 12 13 14 15 16 17 18 19 20 21 22 23 24 25 26 27 28 29 30 31 32 33\n",
            " 34 35 36 37 38 39 40 41 42 43 44 45 46 47 48 49]\n"
          ]
        }
      ]
    },
    {
      "cell_type": "code",
      "source": [
        "#range vector\n",
        "np.arange(1, 20)"
      ],
      "metadata": {
        "colab": {
          "base_uri": "https://localhost:8080/"
        },
        "id": "zx-xlJb2spWh",
        "outputId": "9f3ed52b-4833-4f61-affa-b80210feeb4a"
      },
      "execution_count": 15,
      "outputs": [
        {
          "output_type": "execute_result",
          "data": {
            "text/plain": [
              "array([ 1,  2,  3,  4,  5,  6,  7,  8,  9, 10, 11, 12, 13, 14, 15, 16, 17,\n",
              "       18, 19])"
            ]
          },
          "metadata": {},
          "execution_count": 15
        }
      ]
    },
    {
      "cell_type": "code",
      "source": [
        "#Reverse a vector\n",
        "a = np.arange(50)\n",
        "a[::-1]"
      ],
      "metadata": {
        "colab": {
          "base_uri": "https://localhost:8080/"
        },
        "id": "P3qt3yz7s0PP",
        "outputId": "14649cb1-09dc-4678-c2aa-89587746993f"
      },
      "execution_count": 21,
      "outputs": [
        {
          "output_type": "execute_result",
          "data": {
            "text/plain": [
              "array([49, 48, 47, 46, 45, 44, 43, 42, 41, 40, 39, 38, 37, 36, 35, 34, 33,\n",
              "       32, 31, 30, 29, 28, 27, 26, 25, 24, 23, 22, 21, 20, 19, 18, 17, 16,\n",
              "       15, 14, 13, 12, 11, 10,  9,  8,  7,  6,  5,  4,  3,  2,  1,  0])"
            ]
          },
          "metadata": {},
          "execution_count": 21
        }
      ]
    },
    {
      "cell_type": "code",
      "source": [
        "#create a 3x3 matrix with values raging from 0 to 8\n",
        "a = np.arange(9).reshape(3, 3)\n",
        "print(a)"
      ],
      "metadata": {
        "colab": {
          "base_uri": "https://localhost:8080/"
        },
        "id": "gOd9kDErtNJH",
        "outputId": "d0b4b079-8097-4256-847f-fbbaa37da8e0"
      },
      "execution_count": 20,
      "outputs": [
        {
          "output_type": "stream",
          "name": "stdout",
          "text": [
            "[[0 1 2]\n",
            " [3 4 5]\n",
            " [6 7 8]]\n"
          ]
        }
      ]
    },
    {
      "cell_type": "code",
      "source": [
        "a = np.zeros([2,3])\n",
        "print(a)"
      ],
      "metadata": {
        "colab": {
          "base_uri": "https://localhost:8080/"
        },
        "id": "Us09r72Ut3g5",
        "outputId": "784a4173-e319-482b-da42-e20ae3ff45d8"
      },
      "execution_count": 25,
      "outputs": [
        {
          "output_type": "stream",
          "name": "stdout",
          "text": [
            "[[0. 0. 0.]\n",
            " [0. 0. 0.]]\n"
          ]
        }
      ]
    },
    {
      "cell_type": "code",
      "source": [
        "np.nonzero([2,1,4,5,0,0,4,5,6])"
      ],
      "metadata": {
        "colab": {
          "base_uri": "https://localhost:8080/"
        },
        "id": "HjoUVFZy2lyH",
        "outputId": "985a9ae9-a24b-49fd-daac-4982c62baa26"
      },
      "execution_count": 26,
      "outputs": [
        {
          "output_type": "execute_result",
          "data": {
            "text/plain": [
              "(array([0, 1, 2, 3, 6, 7, 8]),)"
            ]
          },
          "metadata": {},
          "execution_count": 26
        }
      ]
    },
    {
      "cell_type": "code",
      "source": [
        "#create a 3x3 identity matrix\n",
        "np.eye(3)"
      ],
      "metadata": {
        "colab": {
          "base_uri": "https://localhost:8080/"
        },
        "id": "Phkj3Pcc257W",
        "outputId": "3b244a76-c811-4339-a0f1-5895afe5ea85"
      },
      "execution_count": 27,
      "outputs": [
        {
          "output_type": "execute_result",
          "data": {
            "text/plain": [
              "array([[1., 0., 0.],\n",
              "       [0., 1., 0.],\n",
              "       [0., 0., 1.]])"
            ]
          },
          "metadata": {},
          "execution_count": 27
        }
      ]
    },
    {
      "cell_type": "code",
      "source": [
        "#create a 3x3x3 matrx\n",
        "\n",
        "np.random.random([3,3,3])"
      ],
      "metadata": {
        "colab": {
          "base_uri": "https://localhost:8080/"
        },
        "id": "ebktwx8N3FWq",
        "outputId": "c723f801-99c6-42f7-e180-73c1e0aba57a"
      },
      "execution_count": 28,
      "outputs": [
        {
          "output_type": "execute_result",
          "data": {
            "text/plain": [
              "array([[[0.76956313, 0.16662465, 0.71351165],\n",
              "        [0.37864082, 0.24348701, 0.2581135 ],\n",
              "        [0.44975147, 0.48854245, 0.52470501]],\n",
              "\n",
              "       [[0.12472293, 0.44161435, 0.53876727],\n",
              "        [0.26242497, 0.6507805 , 0.25735803],\n",
              "        [0.86561795, 0.30855982, 0.57143946]],\n",
              "\n",
              "       [[0.37147759, 0.02980467, 0.29478947],\n",
              "        [0.84386956, 0.92383741, 0.54830527],\n",
              "        [0.87745356, 0.74107616, 0.66880761]]])"
            ]
          },
          "metadata": {},
          "execution_count": 28
        }
      ]
    },
    {
      "cell_type": "code",
      "source": [
        "#create a random vector of size 30 and find the mean value\n",
        "z = np.random.random(30)\n",
        "m = z.mean()\n",
        "print(m)"
      ],
      "metadata": {
        "colab": {
          "base_uri": "https://localhost:8080/"
        },
        "id": "q4es1lou4FgA",
        "outputId": "c6a66c84-0fcc-48d6-9f15-5114abcfa273"
      },
      "execution_count": 40,
      "outputs": [
        {
          "output_type": "stream",
          "name": "stdout",
          "text": [
            "0.4202077531469778\n"
          ]
        }
      ]
    },
    {
      "cell_type": "code",
      "source": [
        "#create a random array of 10x10 find min and max\n",
        "z = np.random.random((10,10))\n",
        "print(z)"
      ],
      "metadata": {
        "colab": {
          "base_uri": "https://localhost:8080/"
        },
        "id": "CdfhjkWU5HTm",
        "outputId": "b8fb9492-3a9b-446d-ce98-09b4ef360d92"
      },
      "execution_count": 44,
      "outputs": [
        {
          "output_type": "stream",
          "name": "stdout",
          "text": [
            "[[0.18628901 0.9854849  0.57409587 0.43252359 0.34458539 0.05635957\n",
            "  0.99484306 0.11377084 0.62271795 0.02971755]\n",
            " [0.84836029 0.45543201 0.90266667 0.83914103 0.63640089 0.31040397\n",
            "  0.50141273 0.13478669 0.16738098 0.68761822]\n",
            " [0.14828357 0.89731387 0.85688552 0.3719784  0.48796014 0.19279291\n",
            "  0.40152041 0.53264013 0.05332953 0.71837959]\n",
            " [0.33023703 0.32942752 0.45402285 0.76888661 0.51587065 0.17296301\n",
            "  0.12920232 0.40327349 0.15766838 0.55796653]\n",
            " [0.72644537 0.0709016  0.87935853 0.35285003 0.70591591 0.55968378\n",
            "  0.38227921 0.17893425 0.02220978 0.20936329]\n",
            " [0.49357356 0.45643943 0.79754944 0.58391199 0.30954966 0.79987435\n",
            "  0.700617   0.58614387 0.40207982 0.72521054]\n",
            " [0.21737954 0.86639371 0.9238788  0.1074335  0.78992346 0.59610587\n",
            "  0.82935626 0.1477509  0.86948345 0.6203859 ]\n",
            " [0.88266893 0.83399682 0.97183999 0.91292907 0.64636976 0.39042331\n",
            "  0.1352246  0.86020553 0.30873123 0.52412298]\n",
            " [0.76731582 0.76480369 0.50960368 0.58105525 0.96828958 0.56651885\n",
            "  0.17516001 0.41226553 0.16780229 0.10793082]\n",
            " [0.19576046 0.58034232 0.92693919 0.28652719 0.56385367 0.17999336\n",
            "  0.25411065 0.81782245 0.3724919  0.20740808]]\n"
          ]
        }
      ]
    },
    {
      "cell_type": "code",
      "source": [
        "# find the min and max\n",
        "zmin, zmax = z.min(), z.max()\n",
        "print(zmin, zmax)"
      ],
      "metadata": {
        "colab": {
          "base_uri": "https://localhost:8080/"
        },
        "id": "6IGge41R5tUs",
        "outputId": "3a541fb8-0e53-4b49-f491-54b91f714036"
      },
      "execution_count": 47,
      "outputs": [
        {
          "output_type": "stream",
          "name": "stdout",
          "text": [
            "0.022209782782297127 0.9948430556716906\n"
          ]
        }
      ]
    },
    {
      "cell_type": "code",
      "source": [
        "#create a random vector of size 30 and find mean\n",
        "z = np.random.random(30)\n",
        "mean = z.mean()\n",
        "print(mean)"
      ],
      "metadata": {
        "colab": {
          "base_uri": "https://localhost:8080/"
        },
        "id": "tJKKWzuu6D_X",
        "outputId": "58302e84-f387-4c59-94c6-6c1871b60dd1"
      },
      "execution_count": 49,
      "outputs": [
        {
          "output_type": "stream",
          "name": "stdout",
          "text": [
            "0.5511968095362064\n"
          ]
        }
      ]
    },
    {
      "cell_type": "code",
      "source": [
        "#create a 1d array\n",
        "z = np.array([2,3,4,5,8])\n",
        "print(z)"
      ],
      "metadata": {
        "colab": {
          "base_uri": "https://localhost:8080/"
        },
        "id": "I57CGNF66Tk5",
        "outputId": "37f7cfa1-ede2-4b29-805c-06fe19df1571"
      },
      "execution_count": 50,
      "outputs": [
        {
          "output_type": "stream",
          "name": "stdout",
          "text": [
            "[2 3 4 5 8]\n"
          ]
        }
      ]
    },
    {
      "cell_type": "code",
      "source": [
        "#create a 2d array\n",
        "z = np.array([[2,3,4], [7,5,8]])\n",
        "print(z)"
      ],
      "metadata": {
        "colab": {
          "base_uri": "https://localhost:8080/"
        },
        "id": "mYaPNmE_6d_2",
        "outputId": "85da11a9-5399-40ed-8657-c4530f58eec6"
      },
      "execution_count": 52,
      "outputs": [
        {
          "output_type": "stream",
          "name": "stdout",
          "text": [
            "[[2 3 4]\n",
            " [7 5 8]]\n"
          ]
        }
      ]
    },
    {
      "cell_type": "code",
      "source": [
        "#create a 3d array\n",
        "z = np.array([[[2,3,4], [7,5,8]],\n",
        "             [[5,4,6], [4,7,8]]])\n",
        "print(z)\n",
        "\n",
        "#Two 2d arrays makes a 3D array"
      ],
      "metadata": {
        "colab": {
          "base_uri": "https://localhost:8080/"
        },
        "id": "RYsNUEWZ6rUt",
        "outputId": "8a0d71de-63eb-4a30-d268-83b2bc5273da"
      },
      "execution_count": 55,
      "outputs": [
        {
          "output_type": "stream",
          "name": "stdout",
          "text": [
            "[[[2 3 4]\n",
            "  [7 5 8]]\n",
            "\n",
            " [[5 4 6]\n",
            "  [4 7 8]]]\n"
          ]
        }
      ]
    },
    {
      "cell_type": "code",
      "source": [
        "z = np.ones((10,10))\n",
        "z[1:-1, 1:-1] = 0\n",
        "print(z)"
      ],
      "metadata": {
        "colab": {
          "base_uri": "https://localhost:8080/"
        },
        "id": "ph4X2vgD7HpS",
        "outputId": "7f9a81fd-de88-443f-a73c-7ae0bd3b7d08"
      },
      "execution_count": 59,
      "outputs": [
        {
          "output_type": "stream",
          "name": "stdout",
          "text": [
            "[[1. 1. 1. 1. 1. 1. 1. 1. 1. 1.]\n",
            " [1. 0. 0. 0. 0. 0. 0. 0. 0. 1.]\n",
            " [1. 0. 0. 0. 0. 0. 0. 0. 0. 1.]\n",
            " [1. 0. 0. 0. 0. 0. 0. 0. 0. 1.]\n",
            " [1. 0. 0. 0. 0. 0. 0. 0. 0. 1.]\n",
            " [1. 0. 0. 0. 0. 0. 0. 0. 0. 1.]\n",
            " [1. 0. 0. 0. 0. 0. 0. 0. 0. 1.]\n",
            " [1. 0. 0. 0. 0. 0. 0. 0. 0. 1.]\n",
            " [1. 0. 0. 0. 0. 0. 0. 0. 0. 1.]\n",
            " [1. 1. 1. 1. 1. 1. 1. 1. 1. 1.]]\n"
          ]
        }
      ]
    },
    {
      "cell_type": "code",
      "source": [
        "np.ones((3,3))"
      ],
      "metadata": {
        "colab": {
          "base_uri": "https://localhost:8080/"
        },
        "id": "BSDDoaXG8He1",
        "outputId": "9a37e31a-d78e-49fc-e141-ff427d5eb256"
      },
      "execution_count": 63,
      "outputs": [
        {
          "output_type": "execute_result",
          "data": {
            "text/plain": [
              "array([[1., 1., 1.],\n",
              "       [1., 1., 1.],\n",
              "       [1., 1., 1.]])"
            ]
          },
          "metadata": {},
          "execution_count": 63
        }
      ]
    },
    {
      "cell_type": "code",
      "source": [
        "print(0*np.nan)\n",
        "print(np.nan == np.nan)\n",
        "print(np.inf > np.nan) #nan is not a number, inf is infinity\n",
        "print(np.nan - np.nan)\n",
        "print(np.nan in set([np.nan]))\n",
        "print(0.3 == 3*0.1)"
      ],
      "metadata": {
        "colab": {
          "base_uri": "https://localhost:8080/"
        },
        "id": "w213ejm08jOn",
        "outputId": "3dadceac-0628-4b47-a9f5-ba00c0516834"
      },
      "execution_count": 69,
      "outputs": [
        {
          "output_type": "stream",
          "name": "stdout",
          "text": [
            "nan\n",
            "False\n",
            "False\n",
            "nan\n",
            "True\n",
            "False\n"
          ]
        }
      ]
    },
    {
      "cell_type": "code",
      "source": [
        "np.diag(1+np.arange(4), k=-1)"
      ],
      "metadata": {
        "colab": {
          "base_uri": "https://localhost:8080/"
        },
        "id": "0KqqQ1Z-9YQl",
        "outputId": "329151a0-7ea0-4036-fca2-b252eabeb122"
      },
      "execution_count": 72,
      "outputs": [
        {
          "output_type": "execute_result",
          "data": {
            "text/plain": [
              "array([[0, 0, 0, 0, 0],\n",
              "       [1, 0, 0, 0, 0],\n",
              "       [0, 2, 0, 0, 0],\n",
              "       [0, 0, 3, 0, 0],\n",
              "       [0, 0, 0, 4, 0]])"
            ]
          },
          "metadata": {},
          "execution_count": 72
        }
      ]
    },
    {
      "cell_type": "code",
      "source": [
        "#create a 8x8 matrix\n",
        "np.zeros((8,8), dtype=int)"
      ],
      "metadata": {
        "colab": {
          "base_uri": "https://localhost:8080/"
        },
        "id": "TfBgXqEz-Yn3",
        "outputId": "217ecd27-6a96-4a64-ee3d-dfc03561b64b"
      },
      "execution_count": 77,
      "outputs": [
        {
          "output_type": "execute_result",
          "data": {
            "text/plain": [
              "array([[0, 0, 0, 0, 0, 0, 0, 0],\n",
              "       [0, 0, 0, 0, 0, 0, 0, 0],\n",
              "       [0, 0, 0, 0, 0, 0, 0, 0],\n",
              "       [0, 0, 0, 0, 0, 0, 0, 0],\n",
              "       [0, 0, 0, 0, 0, 0, 0, 0],\n",
              "       [0, 0, 0, 0, 0, 0, 0, 0],\n",
              "       [0, 0, 0, 0, 0, 0, 0, 0],\n",
              "       [0, 0, 0, 0, 0, 0, 0, 0]])"
            ]
          },
          "metadata": {},
          "execution_count": 77
        }
      ]
    },
    {
      "cell_type": "code",
      "source": [],
      "metadata": {
        "id": "YgdmFMHp--c3"
      },
      "execution_count": null,
      "outputs": []
    }
  ]
}